{
 "cells": [
  {
   "cell_type": "code",
   "execution_count": 1,
   "metadata": {},
   "outputs": [
    {
     "name": "stdout",
     "output_type": "stream",
     "text": [
      "2024-11-25 14:21:10 - Loaded .env file\n"
     ]
    }
   ],
   "source": [
    "from pyexpat import model\n",
    "from typing import Iterable, Optional\n",
    "from uuid import UUID\n",
    "from env import env\n",
    "from openai import NotGiven, OpenAI\n",
    "import json\n",
    "from openai.types.chat import (\n",
    "    ChatCompletionMessageParam,\n",
    "    ChatCompletionToolMessageParam,\n",
    "    ChatCompletionToolParam,\n",
    ")\n",
    "from tools.invoke_tool import invoke\n",
    "\n",
    "\n",
    "_model = \"gpt-4o-mini\"\n",
    "_client = OpenAI( api_key = env.OPENAI_API_KEY)"
   ]
  },
  {
   "cell_type": "code",
   "execution_count": 2,
   "metadata": {},
   "outputs": [],
   "source": [
    "from datetime import datetime\n",
    "\n",
    "\n",
    "prompt = f\"\"\"\n",
    "# Role\n",
    "You are a professional rewriter.\n",
    "\n",
    "# Goal\n",
    "Your task is to rewrite the user's input more clearly and ensure it includes all necessary components in a complete sentence.\n",
    "\n",
    "## TODAY:\n",
    "Today's date: {datetime.now().strftime(\"%Y-%m-%d\")} (YYYY-MM-DD) (This timeline is for reference only)\n",
    "\n",
    "## Rules\n",
    "- When rewriting, you first need to correct spelling errors and replace abbreviations with their full forms.\n",
    "- If you cannot rewrite the user's input, you only need to return the original sentence.\n",
    "- You only need to return the rewritten sentence without returning anything else.\n",
    "- If the user's input mentions information related to time (such as tomorrow, next week,...) , you must base it on today's date and clearly rewrite this time (by specifying the exact day, month, and year if possible).\n",
    "- The user here acts as a customer participating in a conversation with an online customer service agent of a travel company.\n",
    "- The language of user input is Vietnamese.\n",
    "\n",
    "## Initialization\n",
    "As a/an <Role>, you are required to adhere to the <Goal> and follow the <Rules> strictly.\n",
    "\n",
    "The user's input is: \"Tôi muốn đặt tour tết.\"\n",
    "\"\"\"\n",
    "\n",
    "message: ChatCompletionMessageParam = \\\n",
    "{\n",
    "    \"role\": \"user\",\n",
    "    \"content\": prompt,\n",
    "}"
   ]
  },
  {
   "cell_type": "code",
   "execution_count": 3,
   "metadata": {},
   "outputs": [
    {
     "name": "stdout",
     "output_type": "stream",
     "text": [
      "2024-11-25 14:21:12 - HTTP Request: POST https://api.openai.com/v1/chat/completions \"HTTP/1.1 200 OK\"\n"
     ]
    },
    {
     "data": {
      "text/plain": [
       "'Tôi muốn đặt tour cho dịp Tết Nguyên Đán.'"
      ]
     },
     "execution_count": 3,
     "metadata": {},
     "output_type": "execute_result"
    }
   ],
   "source": [
    "_client.chat.completions.create(\n",
    "    messages=[message],\n",
    "    model=_model,\n",
    "    temperature=0,\n",
    "    timeout=30,\n",
    ").choices[0].message.content"
   ]
  },
  {
   "cell_type": "code",
   "execution_count": 4,
   "metadata": {},
   "outputs": [],
   "source": [
    "import datetime\n",
    "\n",
    "current_datetime = datetime.datetime.now()"
   ]
  },
  {
   "cell_type": "code",
   "execution_count": 5,
   "metadata": {},
   "outputs": [
    {
     "data": {
      "text/plain": [
       "'Monday, November 25, 2024 02:21 PM'"
      ]
     },
     "execution_count": 5,
     "metadata": {},
     "output_type": "execute_result"
    }
   ],
   "source": [
    "current_datetime.strftime(\"%A, %B %d, %Y %I:%M %p\")"
   ]
  },
  {
   "cell_type": "code",
   "execution_count": null,
   "metadata": {},
   "outputs": [],
   "source": []
  },
  {
   "cell_type": "code",
   "execution_count": 6,
   "metadata": {},
   "outputs": [
    {
     "data": {
      "text/plain": [
       "Job('3b463021-6965-4b3b-93ea-82be26eb8fbb', enqueued_at=datetime.datetime(2024, 12, 2, 14, 35, 52, 519339, tzinfo=datetime.timezone.utc))"
      ]
     },
     "execution_count": 6,
     "metadata": {},
     "output_type": "execute_result"
    }
   ],
   "source": [
    "from service.email import create_message, send_message\n",
    "from env import env\n",
    "from db import redis\n",
    "from rq import Queue\n",
    "\n",
    "message = create_message(sender=env.SENDER_EMAIL,\n",
    "        to=env.RECEIVER_EMAIL,subject=\"Test6\",message_text=\"Test\")\n",
    "q = Queue(connection=redis)\n",
    "q.enqueue(send_message, message)"
   ]
  },
  {
   "cell_type": "code",
   "execution_count": 3,
   "metadata": {},
   "outputs": [
    {
     "name": "stdout",
     "output_type": "stream",
     "text": [
      "Message sent successfully: 1938151136e624d2\n"
     ]
    }
   ],
   "source": [
    "from service.email import _authenticate_gmail\n",
    "\n",
    "_authenticate_gmail()"
   ]
  }
 ],
 "metadata": {
  "kernelspec": {
   "display_name": "chatbot-tlcn-L8ehHy6a-py3.10",
   "language": "python",
   "name": "python3"
  },
  "language_info": {
   "codemirror_mode": {
    "name": "ipython",
    "version": 3
   },
   "file_extension": ".py",
   "mimetype": "text/x-python",
   "name": "python",
   "nbconvert_exporter": "python",
   "pygments_lexer": "ipython3",
   "version": "3.10.14"
  }
 },
 "nbformat": 4,
 "nbformat_minor": 2
}
